{
 "cells": [
  {
   "cell_type": "code",
   "execution_count": 1,
   "metadata": {},
   "outputs": [],
   "source": [
    "import cv2\n",
    "import numpy as np"
   ]
  },
  {
   "cell_type": "markdown",
   "metadata": {},
   "source": [
    "# Reading photo"
   ]
  },
  {
   "cell_type": "code",
   "execution_count": 5,
   "metadata": {},
   "outputs": [],
   "source": [
    "img = cv2.imread('image/hell.jpg')\n",
    "cv2.imshow('photo', img)\n",
    "cv2.waitKey(2000)\n",
    "cv2.destroyWindow('photo')"
   ]
  },
  {
   "cell_type": "markdown",
   "metadata": {},
   "source": [
    "# Reading video"
   ]
  },
  {
   "cell_type": "code",
   "execution_count": 5,
   "metadata": {},
   "outputs": [
    {
     "name": "stdout",
     "output_type": "stream",
     "text": [
      "1114\n"
     ]
    }
   ],
   "source": [
    "i = 0\n",
    "vid = cv2.VideoCapture('nazi.mp4')\n",
    "while True:\n",
    "    success, img_slice = vid.read()\n",
    "    cv2.imshow('video', img_slice)\n",
    "    i += 1\n",
    "    if cv2.waitKey(1) & 0xFF == ord('q'):\n",
    "        break\n",
    "cv2.destroyWindow('video')\n",
    "print(i)"
   ]
  },
  {
   "cell_type": "markdown",
   "metadata": {},
   "source": [
    "# Webcam"
   ]
  },
  {
   "cell_type": "code",
   "execution_count": 32,
   "metadata": {},
   "outputs": [],
   "source": [
    "vid = cv2.VideoCapture(0)\n",
    "vid.set(3, 1000)\n",
    "vid.set(4, 1000)\n",
    "vid.set(10, 100)\n",
    "while True:\n",
    "    success, img_slice = vid.read()\n",
    "    cv2.imshow('video', img_slice)\n",
    "    if cv2.waitKey(1) & 0xFF == ord('q'):\n",
    "        break\n",
    "cv2.destroyWindow('video')"
   ]
  },
  {
   "cell_type": "markdown",
   "metadata": {},
   "source": [
    "# Functions"
   ]
  },
  {
   "cell_type": "markdown",
   "metadata": {},
   "source": [
    "### Grayscale "
   ]
  },
  {
   "cell_type": "code",
   "execution_count": 11,
   "metadata": {},
   "outputs": [
    {
     "data": {
      "text/plain": [
       "-1"
      ]
     },
     "execution_count": 11,
     "metadata": {},
     "output_type": "execute_result"
    }
   ],
   "source": [
    "img = cv2.imread('image/hell.jpg')\n",
    "imgGray = cv2.cvtColor(img, cv2.COLOR_BGR2GRAY)\n",
    "cv2.imshow('gray_photo', imgGray)\n",
    "cv2.waitKey(0)"
   ]
  },
  {
   "cell_type": "markdown",
   "metadata": {},
   "source": [
    "### Blur "
   ]
  },
  {
   "cell_type": "code",
   "execution_count": 3,
   "metadata": {},
   "outputs": [
    {
     "data": {
      "text/plain": [
       "-1"
      ]
     },
     "execution_count": 3,
     "metadata": {},
     "output_type": "execute_result"
    }
   ],
   "source": [
    "img = cv2.imread('image/hell.jpg')\n",
    "imgBlur = cv2.GaussianBlur(imgGray, (11,11), 0)\n",
    "cv2.imshow('gray_blur_photo', imgBlur)\n",
    "cv2.waitKey(0)"
   ]
  },
  {
   "cell_type": "markdown",
   "metadata": {},
   "source": [
    "### Edge Detector "
   ]
  },
  {
   "cell_type": "code",
   "execution_count": 13,
   "metadata": {},
   "outputs": [
    {
     "data": {
      "text/plain": [
       "-1"
      ]
     },
     "execution_count": 13,
     "metadata": {},
     "output_type": "execute_result"
    }
   ],
   "source": [
    "img = cv2.imread('image/hell.jpg')\n",
    "imgCanny = cv2.Canny(img, 100, 100)\n",
    "cv2.imshow('canny_photo', imgCanny)\n",
    "cv2.waitKey(0)"
   ]
  },
  {
   "cell_type": "markdown",
   "metadata": {},
   "source": [
    "### Morphological Transformations (from Canny)"
   ]
  },
  {
   "cell_type": "code",
   "execution_count": 15,
   "metadata": {},
   "outputs": [
    {
     "data": {
      "text/plain": [
       "-1"
      ]
     },
     "execution_count": 15,
     "metadata": {},
     "output_type": "execute_result"
    }
   ],
   "source": [
    "img = cv2.imread('image/hell.jpg')\n",
    "imgCanny = cv2.Canny(img, 100, 100)\n",
    "kernel = np.ones((2,2), np.uint8)\n",
    "# dilation\n",
    "imgDilation = cv2.dilate(imgCanny, kernel, iterations = 1)\n",
    "cv2.imshow('dilation_photo', imgDilation)\n",
    "# erosion\n",
    "imgErosion = cv2.erode(imgDilation, kernel, iterations = 1)\n",
    "cv2.imshow('erosion_photo', imgErosion)\n",
    "# opening (erode then dilate)\n",
    "imgOpening = cv2.morphologyEx(imgCanny, cv2.MORPH_OPEN, kernel)\n",
    "cv2.imshow('opening_photo', imgOpening)\n",
    "# closing (dilste then erode)\n",
    "imgClosing = cv2.morphologyEx(imgCanny, cv2.MORPH_CLOSE, kernel)\n",
    "cv2.imshow('closing_photo', imgClosing)\n",
    "cv2.waitKey(0)"
   ]
  },
  {
   "cell_type": "markdown",
   "metadata": {},
   "source": [
    "# Resizing and Cropping"
   ]
  },
  {
   "cell_type": "code",
   "execution_count": 18,
   "metadata": {},
   "outputs": [
    {
     "name": "stdout",
     "output_type": "stream",
     "text": [
      "(611, 640, 3)\n"
     ]
    }
   ],
   "source": [
    "img = cv2.imread('image/hell.jpg')\n",
    "print(img.shape)\n",
    "imgResize = cv2.resize(img, (500, 400))\n",
    "cv2.imshow('resize_photo', imgResize)\n",
    "cv2.waitKey(0)\n",
    "cv2.destroyWindow('photo')"
   ]
  },
  {
   "cell_type": "code",
   "execution_count": 20,
   "metadata": {},
   "outputs": [],
   "source": [
    "imgCropped = img[0:200, 300:500]\n",
    "cv2.imshow('resize_photo', imgCropped)\n",
    "cv2.waitKey(0)\n",
    "cv2.destroyWindow('photo')"
   ]
  },
  {
   "cell_type": "markdown",
   "metadata": {},
   "source": [
    "# Shapes and Texts"
   ]
  },
  {
   "cell_type": "code",
   "execution_count": 35,
   "metadata": {},
   "outputs": [
    {
     "data": {
      "text/plain": [
       "-1"
      ]
     },
     "execution_count": 35,
     "metadata": {},
     "output_type": "execute_result"
    }
   ],
   "source": [
    "img = np.zeros((512,512,3), np.uint8)\n",
    "#img[:] = 0, 0, 255\n",
    "cv2.line(img, (0, 0), (300, 300), (100, 34, 67), 3)\n",
    "cv2.rectangle(img, (0, 0), (250, 250), (100, 94, 167), cv2.FILLED)\n",
    "cv2.circle(img, (0, 0), 100, (1, 67, 45), cv2.FILLED)\n",
    "cv2.putText(img, 'opencv', (300, 30), cv2.FONT_HERSHEY_COMPLEX, 1, (100, 100, 100), 1)\n",
    "cv2.imshow('color_photo', img)\n",
    "cv2.waitKey(0)"
   ]
  },
  {
   "cell_type": "markdown",
   "metadata": {},
   "source": [
    "# Warp Perspective"
   ]
  },
  {
   "cell_type": "code",
   "execution_count": 16,
   "metadata": {},
   "outputs": [
    {
     "data": {
      "text/plain": [
       "113"
      ]
     },
     "execution_count": 16,
     "metadata": {},
     "output_type": "execute_result"
    }
   ],
   "source": [
    "img = cv2.imread('image/business_card.jfif')\n",
    "img_cropped = img[:, 100:1100]\n",
    "width, height = 500, 500\n",
    "# use paint to locate the points\n",
    "pts1 = np.float32([[140, 190],[540, 60],[430, 413],[837, 280]])\n",
    "pts2 = np.float32([[0, 0],[width, 0],[0, height],[width, height]])\n",
    "matrix = cv2.getPerspectiveTransform(pts1, pts2)\n",
    "imgOutput = cv2.warpPerspective(img_cropped, matrix, (width, height))\n",
    "cv2.imshow('business_card', img_cropped)\n",
    "cv2.imshow('business_card1', imgOutput)\n",
    "cv2.waitKey(0)"
   ]
  },
  {
   "cell_type": "markdown",
   "metadata": {},
   "source": [
    "# Joining Images"
   ]
  },
  {
   "cell_type": "code",
   "execution_count": 2,
   "metadata": {},
   "outputs": [],
   "source": [
    "img = cv2.imread('image/hell.jpg')\n",
    "hor = np.hstack((img, img))\n",
    "ver = np.vstack((img, img))\n",
    "cv2.imshow('horizontal_photo', hor)\n",
    "cv2.imshow('vertical_photo', ver)\n",
    "cv2.waitKey(0)"
   ]
  },
  {
   "cell_type": "code",
   "execution_count": 2,
   "metadata": {},
   "outputs": [],
   "source": [
    "# to be able to stack arrays of images with different channel number, a function is needed\n",
    "def stackImages(scale,imgArray):\n",
    "    rows = len(imgArray)\n",
    "    cols = len(imgArray[0])\n",
    "    rowsAvailable = isinstance(imgArray[0], list)\n",
    "    width = imgArray[0][0].shape[1]\n",
    "    height = imgArray[0][0].shape[0]\n",
    "    if rowsAvailable:\n",
    "        for x in range ( 0, rows):\n",
    "            for y in range(0, cols):\n",
    "                if imgArray[x][y].shape[:2] == imgArray[0][0].shape [:2]:\n",
    "                    imgArray[x][y] = cv2.resize(imgArray[x][y], (0, 0), None, scale, scale)\n",
    "                else:\n",
    "                    imgArray[x][y] = cv2.resize(imgArray[x][y], (imgArray[0][0].shape[1], imgArray[0][0].shape[0]), None, scale, scale)\n",
    "                if len(imgArray[x][y].shape) == 2: imgArray[x][y]= cv2.cvtColor( imgArray[x][y], cv2.COLOR_GRAY2BGR)\n",
    "        imageBlank = np.zeros((height, width, 3), np.uint8)\n",
    "        hor = [imageBlank]*rows\n",
    "        hor_con = [imageBlank]*rows\n",
    "        for x in range(0, rows):\n",
    "            hor[x] = np.hstack(imgArray[x])\n",
    "        ver = np.vstack(hor)\n",
    "    else:\n",
    "        for x in range(0, rows):\n",
    "            if imgArray[x].shape[:2] == imgArray[0].shape[:2]:\n",
    "                imgArray[x] = cv2.resize(imgArray[x], (0, 0), None, scale, scale)\n",
    "            else:\n",
    "                imgArray[x] = cv2.resize(imgArray[x], (imgArray[0].shape[1], imgArray[0].shape[0]), None,scale, scale)\n",
    "            if len(imgArray[x].shape) == 2: imgArray[x] = cv2.cvtColor(imgArray[x], cv2.COLOR_GRAY2BGR)\n",
    "        hor= np.hstack(imgArray)\n",
    "        ver = hor\n",
    "    return ver"
   ]
  },
  {
   "cell_type": "markdown",
   "metadata": {},
   "source": [
    "# Color Detection"
   ]
  },
  {
   "cell_type": "code",
   "execution_count": 15,
   "metadata": {},
   "outputs": [
    {
     "data": {
      "text/plain": [
       "-1"
      ]
     },
     "execution_count": 15,
     "metadata": {},
     "output_type": "execute_result"
    }
   ],
   "source": [
    "img = cv2.imread('bmw330.jpeg')\n",
    "imgResize = cv2.resize(img, (500, 400))\n",
    "imgHSV = cv2.cvtColor(imgResize, cv2.COLOR_BGR2HSV)\n",
    "cv2.imshow('bmw_photo', imgHSV)\n",
    "cv2.waitKey(0)"
   ]
  },
  {
   "cell_type": "markdown",
   "metadata": {},
   "source": [
    "### Track Bars"
   ]
  },
  {
   "cell_type": "code",
   "execution_count": 3,
   "metadata": {},
   "outputs": [],
   "source": [
    "img = cv2.imread('bmw330.jpeg')\n",
    "imgResize = cv2.resize(img, (500, 400))\n",
    "\n",
    "cv2.namedWindow('TrackBars')\n",
    "cv2.resizeWindow('TrackBars', 500, 400)\n",
    "imgHSV = cv2.cvtColor(imgResize,cv2.COLOR_BGR2HSV)\n",
    "\n",
    "# to get pass\n",
    "def empty(a):\n",
    "    pass\n",
    "\n",
    "cv2.createTrackbar(\"Hue Min\",\"TrackBars\",0,179,empty)\n",
    "cv2.createTrackbar(\"Hue Max\",\"TrackBars\",179,179,empty)\n",
    "cv2.createTrackbar(\"Sat Min\",\"TrackBars\",0,255,empty)\n",
    "cv2.createTrackbar(\"Sat Max\",\"TrackBars\",255,255,empty)\n",
    "cv2.createTrackbar(\"Val Min\",\"TrackBars\",0,255,empty)\n",
    "cv2.createTrackbar(\"Val Max\",\"TrackBars\",255,255,empty)\n",
    "\n",
    "while True:\n",
    "    h_min = cv2.getTrackbarPos(\"Hue Min\",\"TrackBars\")\n",
    "    h_max = cv2.getTrackbarPos(\"Hue Max\", \"TrackBars\")\n",
    "    s_min = cv2.getTrackbarPos(\"Sat Min\", \"TrackBars\")\n",
    "    s_max = cv2.getTrackbarPos(\"Sat Max\", \"TrackBars\")\n",
    "    v_min = cv2.getTrackbarPos(\"Val Min\", \"TrackBars\")\n",
    "    v_max = cv2.getTrackbarPos(\"Val Max\", \"TrackBars\")\n",
    "    lower = np.array([h_min,s_min,v_min])\n",
    "    upper = np.array([h_max,s_max,v_max])\n",
    "    mask = cv2.inRange(imgHSV,lower,upper)\n",
    "    imgResult = cv2.bitwise_and(imgResize,imgResize,mask=mask)\n",
    "\n",
    "    imgStack = stackImages(0.6,([imgResize,imgHSV],[mask,imgResult]))\n",
    "    cv2.imshow(\"Stacked Images\", imgStack)\n",
    "\n",
    "    if cv2.waitKey(1) & 0xFF == ord('q'):\n",
    "        break\n",
    "cv2.destroyWindow('Stacked Images')\n",
    "cv2.destroyWindow('TrackBars')"
   ]
  },
  {
   "cell_type": "markdown",
   "metadata": {},
   "source": [
    "# Face Detection"
   ]
  },
  {
   "cell_type": "code",
   "execution_count": 14,
   "metadata": {},
   "outputs": [],
   "source": [
    "faceCascade = cv2.CascadeClassifier(\"Resources/haarcascade_frontalface_default.xml\")\n",
    "eyeCascade = cv2.CascadeClassifier(\"Resources/haarcascade_eye.xml\")\n",
    "array = [(faceCascade, 'face'), (eyeCascade, 'eye')]\n",
    "vid = cv2.VideoCapture(0)\n",
    "vid.set(3, 1000)\n",
    "vid.set(4, 1000)\n",
    "vid.set(10, 100)\n",
    "while True:\n",
    "    success, img_slice = vid.read()\n",
    "    imgGray = cv2.cvtColor(img_slice,cv2.COLOR_BGR2GRAY)\n",
    "    for cascade, feature_name in array:\n",
    "        feature = cascade.detectMultiScale(imgGray,1.5,5)\n",
    "        for (x,y,w,h) in feature:\n",
    "            cv2.rectangle(img_slice,(x,y),(x+w,y+h),(255,0,0),2)\n",
    "            cv2.putText(img_slice,feature_name,\n",
    "                       (x+(w//2),y+(h//2)),cv2.FONT_HERSHEY_COMPLEX,0.7,\n",
    "                       (0,255,0),1)\n",
    "    cv2.imshow('video', img_slice)\n",
    "    if cv2.waitKey(1) & 0xFF == ord('q'):\n",
    "        break\n",
    "cv2.destroyWindow('video')"
   ]
  },
  {
   "cell_type": "code",
   "execution_count": null,
   "metadata": {},
   "outputs": [],
   "source": []
  }
 ],
 "metadata": {
  "kernelspec": {
   "display_name": "Python 3",
   "language": "python",
   "name": "python3"
  },
  "language_info": {
   "codemirror_mode": {
    "name": "ipython",
    "version": 3
   },
   "file_extension": ".py",
   "mimetype": "text/x-python",
   "name": "python",
   "nbconvert_exporter": "python",
   "pygments_lexer": "ipython3",
   "version": "3.9.1"
  }
 },
 "nbformat": 4,
 "nbformat_minor": 4
}
